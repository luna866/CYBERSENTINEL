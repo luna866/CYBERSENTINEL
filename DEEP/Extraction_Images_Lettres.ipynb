{
  "cells": [
    {
      "cell_type": "markdown",
      "metadata": {
        "id": "HbgnXaw8cC17"
      },
      "source": [
        "# **Extraction des Images de fleurs en utilisant Selenium**"
      ]
    },
    {
      "cell_type": "markdown",
      "metadata": {
        "id": "YMEXFtf-cKqQ"
      },
      "source": [
        "**Notre but est de collecter une base de données qui contient différentes images de différents types de lettres à partir de Google Image en utilisant Selenium**.\n",
        "\n"
      ]
    },
    {
      "cell_type": "markdown",
      "metadata": {
        "id": "aSoQzvu6ca5K"
      },
      "source": [
        "**Setup & tools:**"
      ]
    },
    {
      "cell_type": "markdown",
      "metadata": {
        "id": "7DESqd95X2xK"
      },
      "source": [
        "**Install Selenium , chromdriver**"
      ]
    },
    {
      "cell_type": "code",
      "execution_count": 18,
      "metadata": {
        "id": "2jxni4WaWryX",
        "outputId": "f27fd190-d87a-4c83-bdbf-9633fac19c84",
        "colab": {
          "base_uri": "https://localhost:8080/"
        }
      },
      "outputs": [
        {
          "output_type": "stream",
          "name": "stdout",
          "text": [
            "PPA publishes dbgsym, you may need to include 'main/debug' component\n",
            "Repository: 'deb https://ppa.launchpadcontent.net/saiarcot895/chromium-beta/ubuntu/ jammy main'\n",
            "Description:\n",
            "This PPA contains the latest Chromium Beta builds, with hardware video decoding enabled (hidden behind a flag), and support for Widevine (needed for viewing many DRM-protected videos) enabled.\n",
            "\n",
            "== Hardware Video Decoding ==\n",
            "\n",
            "To enable hardware video decoding, start Chromium with the --enable-features=VaapiVideoDecoder argument. To make this persistent, create a file at /etc/chromium-browser/customizations/92-vaapi-hardware-decoding with the following contents:\n",
            "\n",
            "CHROMIUM_FLAGS=\"${CHROMIUM_FLAGS} --enable-features=VaapiVideoDecoder\"\n",
            "\n",
            "See also https://wiki.archlinux.org/title/Chromium#Hardware_video_acceleration for more information on VAAPI video decoding support.\n",
            "\n",
            "=== Widevine Support ===\n",
            "\n",
            "The packages in this PPA have support for Widevine inside Chromium enabled. However, you still need to copy some files from Chrome into Chromium for you to use Netflix (or other websites using Encrypted Media Extensions) in Chromium.\n",
            "\n",
            "1. Download and install Chrome (or extract the necessary files, if you know how to do that).\n",
            "2. From the Chrome installation directory (probably /opt/google/chome or something similar), copy libwidevinecdm.so into ~/.config/chromium.\n",
            "3. Restart Chromium.\n",
            "\n",
            "=== Preventing falling back to the standard version of Chromium ===\n",
            "\n",
            "Sometimes, this PPA doesn't get updated within a few days of a release, and in some cases, the version of Chromium in the standard Ubuntu repos may be newer than the version provided by the PPA. If you want to prevent apt from updating to the version in the standard Ubuntu repos, add the following three lines into /etc/apt/preferences.d/chromium:\n",
            "\n",
            "Package: *\n",
            "Pin: release o=LP-PPA-saiarcot895-chromium-beta\n",
            "Pin-Priority: 700\n",
            "\n",
            "=== Help ===\n",
            "\n",
            "If you need help with installing Chromium or notice stuff not working that should normally work, click on my name below in the \"Adding this PPA to your system\" section.\n",
            "\n",
            "=== Packaging ===\n",
            "\n",
            "Packaging for this PPA is at https://github.com/saiarcot895/chromium-ubuntu-build. A separate branch is created for each upstream branch number.\n",
            "More info: https://launchpad.net/~saiarcot895/+archive/ubuntu/chromium-beta\n",
            "Adding repository.\n",
            "Press [ENTER] to continue or Ctrl-c to cancel.\n",
            "Found existing deb entry in /etc/apt/sources.list.d/saiarcot895-ubuntu-chromium-beta-jammy.list\n",
            "Adding deb entry to /etc/apt/sources.list.d/saiarcot895-ubuntu-chromium-beta-jammy.list\n",
            "Found existing deb-src entry in /etc/apt/sources.list.d/saiarcot895-ubuntu-chromium-beta-jammy.list\n",
            "Adding disabled deb-src entry to /etc/apt/sources.list.d/saiarcot895-ubuntu-chromium-beta-jammy.list\n",
            "Adding key to /etc/apt/trusted.gpg.d/saiarcot895-ubuntu-chromium-beta.gpg with fingerprint E6200BDA4A746F2A1F7FFD3FE6A17451DC058F40\n",
            "Hit:1 https://cloud.r-project.org/bin/linux/ubuntu jammy-cran40/ InRelease\n",
            "Hit:2 https://developer.download.nvidia.com/compute/cuda/repos/ubuntu2204/x86_64  InRelease\n",
            "Hit:3 http://security.ubuntu.com/ubuntu jammy-security InRelease\n",
            "Hit:4 http://archive.ubuntu.com/ubuntu jammy InRelease\n",
            "Hit:5 http://archive.ubuntu.com/ubuntu jammy-updates InRelease\n",
            "Hit:6 http://archive.ubuntu.com/ubuntu jammy-backports InRelease\n",
            "Hit:7 https://ppa.launchpadcontent.net/c2d4u.team/c2d4u4.0+/ubuntu jammy InRelease\n",
            "Hit:8 https://ppa.launchpadcontent.net/deadsnakes/ppa/ubuntu jammy InRelease\n",
            "Hit:9 https://ppa.launchpadcontent.net/graphics-drivers/ppa/ubuntu jammy InRelease\n",
            "Hit:10 https://ppa.launchpadcontent.net/saiarcot895/chromium-beta/ubuntu jammy InRelease\n",
            "Hit:11 https://ppa.launchpadcontent.net/ubuntugis/ppa/ubuntu jammy InRelease\n",
            "Reading package lists... Done\n",
            "Reading package lists... Done\n",
            "Building dependency tree... Done\n",
            "Reading state information... Done\n",
            "The following packages were automatically installed and are no longer required:\n",
            "  apparmor chromium-codecs-ffmpeg-extra libcanberra0 libevdev2 libfuse3-3\n",
            "  libgudev-1.0-0 libinput-bin libinput10 liblzo2-2 libmd4c0 libmtdev1\n",
            "  libpipewire-0.3-0 libpipewire-0.3-common libpipewire-0.3-modules\n",
            "  libqt5core5a libqt5dbus5 libqt5gui5 libqt5network5 libqt5svg5 libqt5widgets5\n",
            "  libspa-0.2-modules libtdb1 libva-wayland2 libwacom-bin libwacom-common\n",
            "  libwacom9 libwebrtc-audio-processing1 libxcb-icccm4 libxcb-image0\n",
            "  libxcb-keysyms1 libxcb-render-util0 libxcb-util1 libxcb-xinerama0\n",
            "  libxcb-xinput0 libxcb-xkb1 libxkbcommon-x11-0 libxtst6 pipewire pipewire-bin\n",
            "  pipewire-media-session qt5-gtk-platformtheme qttranslations5-l10n rtkit\n",
            "  snapd sound-theme-freedesktop squashfs-tools systemd-hwe-hwdb udev\n",
            "Use 'sudo apt autoremove' to remove them.\n",
            "The following packages will be REMOVED:\n",
            "  chromium-browser chromium-browser-l10n chromium-chromedriver\n",
            "0 upgraded, 0 newly installed, 3 to remove and 20 not upgraded.\n",
            "After this operation, 404 MB disk space will be freed.\n",
            "(Reading database ... 122838 files and directories currently installed.)\n",
            "Removing chromium-browser-l10n (1:108.0.5359.40-0ubuntu1~ppa1~22.04.1) ...\n",
            "Removing chromium-chromedriver (1:108.0.5359.40-0ubuntu1~ppa1~22.04.1) ...\n",
            "Removing chromium-browser (1:108.0.5359.40-0ubuntu1~ppa1~22.04.1) ...\n",
            "Processing triggers for libc-bin (2.35-0ubuntu3.1) ...\n",
            "/sbin/ldconfig.real: /usr/local/lib/libtbbmalloc_proxy.so.2 is not a symbolic link\n",
            "\n",
            "/sbin/ldconfig.real: /usr/local/lib/libtbb.so.12 is not a symbolic link\n",
            "\n",
            "/sbin/ldconfig.real: /usr/local/lib/libtbbbind_2_0.so.3 is not a symbolic link\n",
            "\n",
            "/sbin/ldconfig.real: /usr/local/lib/libtbbbind.so.3 is not a symbolic link\n",
            "\n",
            "/sbin/ldconfig.real: /usr/local/lib/libtbbbind_2_5.so.3 is not a symbolic link\n",
            "\n",
            "/sbin/ldconfig.real: /usr/local/lib/libtbbmalloc.so.2 is not a symbolic link\n",
            "\n",
            "Processing triggers for man-db (2.10.2-1) ...\n",
            "Processing triggers for hicolor-icon-theme (0.17-2) ...\n",
            "error: cannot communicate with server: Post \"http://localhost/v2/snaps/chromium\": dial unix /run/snapd.socket: connect: no such file or directory\n",
            "Reading package lists... Done\n",
            "Building dependency tree... Done\n",
            "Reading state information... Done\n",
            "The following packages were automatically installed and are no longer required:\n",
            "  apparmor libfuse3-3 liblzo2-2 snapd squashfs-tools systemd-hwe-hwdb udev\n",
            "Use 'sudo apt autoremove' to remove them.\n",
            "The following additional packages will be installed:\n",
            "  chromium-browser-l10n\n",
            "Suggested packages:\n",
            "  webaccounts-chromium-extension unity-chromium-extension chromiumflashplugin\n",
            "The following NEW packages will be installed:\n",
            "  chromium-browser chromium-browser-l10n\n",
            "0 upgraded, 2 newly installed, 0 to remove and 20 not upgraded.\n",
            "Need to get 97.3 MB of archives.\n",
            "After this operation, 387 MB of additional disk space will be used.\n",
            "Get:1 https://ppa.launchpadcontent.net/saiarcot895/chromium-beta/ubuntu jammy/main amd64 chromium-browser amd64 1:108.0.5359.40-0ubuntu1~ppa1~22.04.1 [91.5 MB]\n",
            "Get:2 https://ppa.launchpadcontent.net/saiarcot895/chromium-beta/ubuntu jammy/main amd64 chromium-browser-l10n all 1:108.0.5359.40-0ubuntu1~ppa1~22.04.1 [5,890 kB]\n",
            "Fetched 97.3 MB in 8s (11.9 MB/s)\n",
            "debconf: unable to initialize frontend: Dialog\n",
            "debconf: (No usable dialog-like program is installed, so the dialog based frontend cannot be used. at /usr/share/perl5/Debconf/FrontEnd/Dialog.pm line 78, <> line 2.)\n",
            "debconf: falling back to frontend: Readline\n",
            "debconf: unable to initialize frontend: Readline\n",
            "debconf: (This frontend requires a controlling tty.)\n",
            "debconf: falling back to frontend: Teletype\n",
            "dpkg-preconfigure: unable to re-open stdin: \n",
            "Selecting previously unselected package chromium-browser.\n",
            "(Reading database ... 122644 files and directories currently installed.)\n",
            "Preparing to unpack .../chromium-browser_1%3a108.0.5359.40-0ubuntu1~ppa1~22.04.1_amd64.deb ...\n",
            "Unpacking chromium-browser (1:108.0.5359.40-0ubuntu1~ppa1~22.04.1) ...\n",
            "Selecting previously unselected package chromium-browser-l10n.\n",
            "Preparing to unpack .../chromium-browser-l10n_1%3a108.0.5359.40-0ubuntu1~ppa1~22.04.1_all.deb ...\n",
            "Unpacking chromium-browser-l10n (1:108.0.5359.40-0ubuntu1~ppa1~22.04.1) ...\n",
            "Setting up chromium-browser (1:108.0.5359.40-0ubuntu1~ppa1~22.04.1) ...\n",
            "update-alternatives: using /usr/bin/chromium-browser to provide /usr/bin/x-www-browser (x-www-browser) in auto mode\n",
            "update-alternatives: using /usr/bin/chromium-browser to provide /usr/bin/gnome-www-browser (gnome-www-browser) in auto mode\n",
            "Setting up chromium-browser-l10n (1:108.0.5359.40-0ubuntu1~ppa1~22.04.1) ...\n",
            "Processing triggers for libc-bin (2.35-0ubuntu3.1) ...\n",
            "/sbin/ldconfig.real: /usr/local/lib/libtbbmalloc_proxy.so.2 is not a symbolic link\n",
            "\n",
            "/sbin/ldconfig.real: /usr/local/lib/libtbb.so.12 is not a symbolic link\n",
            "\n",
            "/sbin/ldconfig.real: /usr/local/lib/libtbbbind_2_0.so.3 is not a symbolic link\n",
            "\n",
            "/sbin/ldconfig.real: /usr/local/lib/libtbbbind.so.3 is not a symbolic link\n",
            "\n",
            "/sbin/ldconfig.real: /usr/local/lib/libtbbbind_2_5.so.3 is not a symbolic link\n",
            "\n",
            "/sbin/ldconfig.real: /usr/local/lib/libtbbmalloc.so.2 is not a symbolic link\n",
            "\n",
            "Processing triggers for man-db (2.10.2-1) ...\n",
            "Processing triggers for hicolor-icon-theme (0.17-2) ...\n",
            "Requirement already satisfied: selenium-stealth in /usr/local/lib/python3.10/dist-packages (1.0.6)\n",
            "Requirement already satisfied: selenium in /usr/local/lib/python3.10/dist-packages (from selenium-stealth) (4.15.1)\n",
            "Requirement already satisfied: urllib3[socks]<3,>=1.26 in /usr/local/lib/python3.10/dist-packages (from selenium->selenium-stealth) (2.0.7)\n",
            "Requirement already satisfied: trio~=0.17 in /usr/local/lib/python3.10/dist-packages (from selenium->selenium-stealth) (0.23.0)\n",
            "Requirement already satisfied: trio-websocket~=0.9 in /usr/local/lib/python3.10/dist-packages (from selenium->selenium-stealth) (0.11.1)\n",
            "Requirement already satisfied: certifi>=2021.10.8 in /usr/local/lib/python3.10/dist-packages (from selenium->selenium-stealth) (2023.7.22)\n",
            "Requirement already satisfied: attrs>=20.1.0 in /usr/local/lib/python3.10/dist-packages (from trio~=0.17->selenium->selenium-stealth) (23.1.0)\n",
            "Requirement already satisfied: sortedcontainers in /usr/local/lib/python3.10/dist-packages (from trio~=0.17->selenium->selenium-stealth) (2.4.0)\n",
            "Requirement already satisfied: idna in /usr/local/lib/python3.10/dist-packages (from trio~=0.17->selenium->selenium-stealth) (3.4)\n",
            "Requirement already satisfied: outcome in /usr/local/lib/python3.10/dist-packages (from trio~=0.17->selenium->selenium-stealth) (1.3.0.post0)\n",
            "Requirement already satisfied: sniffio>=1.3.0 in /usr/local/lib/python3.10/dist-packages (from trio~=0.17->selenium->selenium-stealth) (1.3.0)\n",
            "Requirement already satisfied: exceptiongroup>=1.0.0rc9 in /usr/local/lib/python3.10/dist-packages (from trio~=0.17->selenium->selenium-stealth) (1.1.3)\n",
            "Requirement already satisfied: wsproto>=0.14 in /usr/local/lib/python3.10/dist-packages (from trio-websocket~=0.9->selenium->selenium-stealth) (1.2.0)\n",
            "Requirement already satisfied: pysocks!=1.5.7,<2.0,>=1.5.6 in /usr/local/lib/python3.10/dist-packages (from urllib3[socks]<3,>=1.26->selenium->selenium-stealth) (1.7.1)\n",
            "Requirement already satisfied: h11<1,>=0.9.0 in /usr/local/lib/python3.10/dist-packages (from wsproto>=0.14->trio-websocket~=0.9->selenium->selenium-stealth) (0.14.0)\n",
            "Requirement already satisfied: selenium in /usr/local/lib/python3.10/dist-packages (4.15.1)\n",
            "Requirement already satisfied: urllib3[socks]<3,>=1.26 in /usr/local/lib/python3.10/dist-packages (from selenium) (2.0.7)\n",
            "Requirement already satisfied: trio~=0.17 in /usr/local/lib/python3.10/dist-packages (from selenium) (0.23.0)\n",
            "Requirement already satisfied: trio-websocket~=0.9 in /usr/local/lib/python3.10/dist-packages (from selenium) (0.11.1)\n",
            "Requirement already satisfied: certifi>=2021.10.8 in /usr/local/lib/python3.10/dist-packages (from selenium) (2023.7.22)\n",
            "Requirement already satisfied: attrs>=20.1.0 in /usr/local/lib/python3.10/dist-packages (from trio~=0.17->selenium) (23.1.0)\n",
            "Requirement already satisfied: sortedcontainers in /usr/local/lib/python3.10/dist-packages (from trio~=0.17->selenium) (2.4.0)\n",
            "Requirement already satisfied: idna in /usr/local/lib/python3.10/dist-packages (from trio~=0.17->selenium) (3.4)\n",
            "Requirement already satisfied: outcome in /usr/local/lib/python3.10/dist-packages (from trio~=0.17->selenium) (1.3.0.post0)\n",
            "Requirement already satisfied: sniffio>=1.3.0 in /usr/local/lib/python3.10/dist-packages (from trio~=0.17->selenium) (1.3.0)\n",
            "Requirement already satisfied: exceptiongroup>=1.0.0rc9 in /usr/local/lib/python3.10/dist-packages (from trio~=0.17->selenium) (1.1.3)\n",
            "Requirement already satisfied: wsproto>=0.14 in /usr/local/lib/python3.10/dist-packages (from trio-websocket~=0.9->selenium) (1.2.0)\n",
            "Requirement already satisfied: pysocks!=1.5.7,<2.0,>=1.5.6 in /usr/local/lib/python3.10/dist-packages (from urllib3[socks]<3,>=1.26->selenium) (1.7.1)\n",
            "Requirement already satisfied: h11<1,>=0.9.0 in /usr/local/lib/python3.10/dist-packages (from wsproto>=0.14->trio-websocket~=0.9->selenium) (0.14.0)\n",
            "Hit:1 https://cloud.r-project.org/bin/linux/ubuntu jammy-cran40/ InRelease\n",
            "Hit:2 https://developer.download.nvidia.com/compute/cuda/repos/ubuntu2204/x86_64  InRelease\n",
            "Hit:3 http://security.ubuntu.com/ubuntu jammy-security InRelease\n",
            "Hit:4 https://ppa.launchpadcontent.net/c2d4u.team/c2d4u4.0+/ubuntu jammy InRelease\n",
            "Hit:5 https://ppa.launchpadcontent.net/deadsnakes/ppa/ubuntu jammy InRelease\n",
            "Hit:6 https://ppa.launchpadcontent.net/graphics-drivers/ppa/ubuntu jammy InRelease\n",
            "Hit:7 https://ppa.launchpadcontent.net/saiarcot895/chromium-beta/ubuntu jammy InRelease\n",
            "Hit:8 https://ppa.launchpadcontent.net/ubuntugis/ppa/ubuntu jammy InRelease\n",
            "Hit:9 http://archive.ubuntu.com/ubuntu jammy InRelease\n",
            "Hit:10 http://archive.ubuntu.com/ubuntu jammy-updates InRelease\n",
            "Hit:11 http://archive.ubuntu.com/ubuntu jammy-backports InRelease\n",
            "Reading package lists... Done\n",
            "Reading package lists... Done\n",
            "Building dependency tree... Done\n",
            "Reading state information... Done\n",
            "The following packages were automatically installed and are no longer required:\n",
            "  apparmor libfuse3-3 liblzo2-2 snapd squashfs-tools systemd-hwe-hwdb udev\n",
            "Use 'apt autoremove' to remove them.\n",
            "The following NEW packages will be installed:\n",
            "  chromium-chromedriver\n",
            "0 upgraded, 1 newly installed, 0 to remove and 20 not upgraded.\n",
            "Need to get 6,015 kB of archives.\n",
            "After this operation, 17.0 MB of additional disk space will be used.\n",
            "Get:1 https://ppa.launchpadcontent.net/saiarcot895/chromium-beta/ubuntu jammy/main amd64 chromium-chromedriver amd64 1:108.0.5359.40-0ubuntu1~ppa1~22.04.1 [6,015 kB]\n",
            "Fetched 6,015 kB in 2s (3,069 kB/s)\n",
            "Selecting previously unselected package chromium-chromedriver.\n",
            "(Reading database ... 122834 files and directories currently installed.)\n",
            "Preparing to unpack .../chromium-chromedriver_1%3a108.0.5359.40-0ubuntu1~ppa1~22.04.1_amd64.deb ...\n",
            "Unpacking chromium-chromedriver (1:108.0.5359.40-0ubuntu1~ppa1~22.04.1) ...\n",
            "Setting up chromium-chromedriver (1:108.0.5359.40-0ubuntu1~ppa1~22.04.1) ...\n"
          ]
        }
      ],
      "source": [
        "!sudo add-apt-repository ppa:saiarcot895/chromium-beta\n",
        "!sudo apt remove chromium-browser\n",
        "!sudo snap remove chromium\n",
        "!sudo apt install chromium-browser\n",
        "!pip install selenium-stealth\n",
        "!pip3 install selenium\n",
        "!apt-get update\n",
        "!apt install chromium-chromedriver\n",
        "!cp /usr/lib/chromium-browser/chromedriver /usr/bin\n",
        "import sys\n",
        "sys.path.insert(0,'/usr/lib/chromium-browser/chromedriver')\n"
      ]
    },
    {
      "cell_type": "code",
      "execution_count": 19,
      "metadata": {
        "colab": {
          "base_uri": "https://localhost:8080/"
        },
        "id": "J8R4UBPmXDkn",
        "outputId": "4df7038d-be28-420c-f901-417d8d9cab43"
      },
      "outputs": [
        {
          "output_type": "stream",
          "name": "stdout",
          "text": [
            "Requirement already satisfied: webdriver_manager in /usr/local/lib/python3.10/dist-packages (4.0.1)\n",
            "Requirement already satisfied: requests in /usr/local/lib/python3.10/dist-packages (from webdriver_manager) (2.31.0)\n",
            "Requirement already satisfied: python-dotenv in /usr/local/lib/python3.10/dist-packages (from webdriver_manager) (1.0.0)\n",
            "Requirement already satisfied: packaging in /usr/local/lib/python3.10/dist-packages (from webdriver_manager) (23.2)\n",
            "Requirement already satisfied: charset-normalizer<4,>=2 in /usr/local/lib/python3.10/dist-packages (from requests->webdriver_manager) (3.3.1)\n",
            "Requirement already satisfied: idna<4,>=2.5 in /usr/local/lib/python3.10/dist-packages (from requests->webdriver_manager) (3.4)\n",
            "Requirement already satisfied: urllib3<3,>=1.21.1 in /usr/local/lib/python3.10/dist-packages (from requests->webdriver_manager) (2.0.7)\n",
            "Requirement already satisfied: certifi>=2017.4.17 in /usr/local/lib/python3.10/dist-packages (from requests->webdriver_manager) (2023.7.22)\n"
          ]
        }
      ],
      "source": [
        "!pip install webdriver_manager"
      ]
    },
    {
      "cell_type": "code",
      "execution_count": 20,
      "metadata": {
        "id": "JLXyCzpFWN7Q"
      },
      "outputs": [],
      "source": [
        "import os\n",
        "import selenium\n",
        "from selenium import webdriver\n",
        "import time\n",
        "from PIL import Image\n",
        "import io\n",
        "import requests\n",
        "from webdriver_manager.chrome import ChromeDriverManager\n",
        "from selenium.webdriver.common.by import By\n",
        "from selenium_stealth import stealth"
      ]
    },
    {
      "cell_type": "code",
      "execution_count": 22,
      "metadata": {
        "id": "PA7A_QffWR9Y"
      },
      "outputs": [],
      "source": [
        "#Install driver\n",
        "chrome_options = webdriver.ChromeOptions()\n",
        "chrome_options.add_argument('--headless')\n",
        "chrome_options.add_argument('--no-sandbox')\n",
        "chrome_options.add_argument('--disable-dev-shm-usage')\n",
        "wd = webdriver.Chrome(options=chrome_options)\n",
        "driver = webdriver.Chrome(options=chrome_options)\n",
        "stealth(driver,\n",
        "              languages=[\"fr-FR\", \"fr\"],\n",
        "              vendor=\"Google Inc.\",\n",
        "              platform=\"Win32\",\n",
        "              webgl_vendor=\"Intel Inc.\",\n",
        "              renderer=\"Intel Iris OpenGL Engine\",\n",
        "              fix_hairline=True,\n",
        "          )"
      ]
    },
    {
      "cell_type": "markdown",
      "metadata": {
        "id": "_SJlWzMoZHOZ"
      },
      "source": [
        "**Scroll jusqu'à la fin de la page**\n",
        "- This line of code would help us to reach the end of the page. And then we’re giving sleep time of 5 seconds so we don’t run in problem, where we’re trying to read elements from the page, which is not yet loaded."
      ]
    },
    {
      "cell_type": "code",
      "execution_count": 23,
      "metadata": {
        "id": "PbARuRD-WR0d"
      },
      "outputs": [],
      "source": [
        "def scroll_to_end(driver):\n",
        "    driver.execute_script(\"window.scrollTo(0,document.body.scrollHeight);\")\n",
        "    time.sleep(5)"
      ]
    },
    {
      "cell_type": "markdown",
      "metadata": {
        "id": "2eS77mzFZQu_"
      },
      "source": [
        "**Importer les URL des images**\n",
        "- Nous devons d'abord spécifier l'URL de recherche\n",
        "- nous allons utilisé l'URL de google image\n",
        "\n",
        "- Ensuite, nous recherchons un type de fleurs dans notre URL de recherche. Collez le lien dans la fonction driver.get(\" Your Link Here \") et exécutez la cellule. Cela ouvrira une nouvelle fenêtre de navigateur pour ce lien.\n",
        "- Ensuite, nous devons localiser les images à extraire de la page à l'aide de la méthode driver.find_elements."
      ]
    },
    {
      "cell_type": "markdown",
      "metadata": {
        "id": "LsTQvHlvZRqS"
      },
      "source": [
        "![image](https://user-images.githubusercontent.com/123748165/227735156-eecf6aab-283a-449b-a0c6-ac1a94b96079.png)"
      ]
    },
    {
      "cell_type": "markdown",
      "metadata": {
        "id": "6dK7p4nbbxjg"
      },
      "source": [
        "- Nous allons maintenant récupérer tous les liens d'images présents sur cette page. Nous allons créer une \"liste\" pour stocker ces liens. Pour ce faire, allez dans la fenêtre du navigateur, faites un clic droit sur la page et sélectionnez \"inspecter l'élément\" ou activez les outils de développement en utilisant Ctrl+Shift+I.\n",
        "\n",
        "- Identifiez maintenant les attributs tels que la classe, l'identifiant, etc. qui sont communs à toutes ces images.\n",
        "\n",
        "- Dans notre cas, la classe =\"'Q4LuWd\" est commune à toutes ces images.\n",
        "\n",
        " **Extraire le lien correspondant à chaque image**\n",
        "\n",
        "- Ainsi, pour télécharger chaque image, nous devons cliquer sur chaque thumbnail  et extraire les informations pertinentes correspondant à cette image.\n",
        "\n",
        "- Dans l'extrait de code ci-dessous, nous effectuons les tâches suivantes...\n",
        "\n",
        "    - Parcourir chaque  thumbnail et cliquer dessus.\n",
        "    - Faire dormir notre navigateur pendant 2 secondes (:P).\n",
        "    - Trouver la balise HTML unique correspondant à cette image pour la localiser sur la page.\n",
        "    - Nous obtenons toujours plus d'un résultat pour une image donnée.  Mais ce qui nous intéresse, c'est le lien de téléchargement de cette image.\n",
        "    - Nous parcourons donc chaque résultat pour cette image et en extrayons l'attribut \"src\", puis nous vérifions si \"https\" est présent dans le \"src\" ou non. En effet, les liens web commencent généralement par \"https\"."
      ]
    },
    {
      "cell_type": "markdown",
      "metadata": {
        "id": "1b50xzD-FTE0"
      },
      "source": [
        "- Vous pouvez consulter ce lien pour compléter les trous de codes : https://selenium-python.readthedocs.io/locating-elements.html#locating-by-id"
      ]
    },
    {
      "cell_type": "markdown",
      "metadata": {
        "id": "1AKfcmNpDuE9"
      },
      "source": [
        "**TO DO**"
      ]
    },
    {
      "cell_type": "code",
      "execution_count": 32,
      "metadata": {
        "id": "Nxcj_tmSWWod"
      },
      "outputs": [],
      "source": [
        "def getImageUrls(name,totalImgs,driver):\n",
        "    #TODO\n",
        "    #Ajouter ici l'URL de recherche pour une requête q dans google image search_url = \"Fill_HERE\"\n",
        "    #Ajouter méthode driver.get\n",
        "\n",
        "    search_url= \"https://www.google.com/search?safe=off&site=&tbm=isch&source=hp&q={q}&oq={q}&gs_l=img\"\n",
        "    driver.get(search_url.format(q=name))\n",
        "\n",
        "    img_urls = set()\n",
        "    img_count = 0\n",
        "    results_start = 0\n",
        "\n",
        "    while(img_count<totalImgs): #Extraire les images actuelles maintenant\n",
        "\n",
        "        scroll_to_end(driver)\n",
        "        #TODO\n",
        "        #Ajouter thumbnail_results en utilisant driver.find_elements\n",
        "        thumbnail_results = driver.find_elements(By.CLASS_NAME, 'Q4LuWd')\n",
        "        totalResults=len(thumbnail_results)\n",
        "        print(f\"Found: {totalResults} search results. Extracting links from {results_start}:{totalResults}\")\n",
        "\n",
        "        for img in thumbnail_results[results_start:totalResults]:\n",
        "\n",
        "            img.click()\n",
        "            #ADD_HERE (Mettre le navigateur en veille(sleep) pendant 2 secondes) .\n",
        "            time.sleep(10)\n",
        "            #ADD_HERE(définir actual_images en utilisant driver.find_elements)\n",
        "            actual_images = driver.find_elements(By.CLASS_NAME,'n3VNCb')\n",
        "            #parcourir chaque résultat pour cette image et en extraire l'attribut \"src\", puis voir si \"https\" est présent dans le \"src\" ou non.\n",
        "                #ADD_HERE\n",
        "            for actual_image in actual_images:\n",
        "              if actual_image.get_attribute('src') and 'https' in actual_image.get_attribute('src'):\n",
        "                img_urls.add(actual_image.get_attribute('src'))\n",
        "\n",
        "\n",
        "            img_count=len(img_urls)\n",
        "\n",
        "            if img_count >= totalImgs:\n",
        "                print(f\"Found: {img_count} image links\")\n",
        "                break\n",
        "            else:\n",
        "                print(\"Found:\", img_count, \"looking for more image links ...\")\n",
        "                #TODO\n",
        "                #localiser et définir load_more_button en utilisant driver.find_elements\n",
        "                load_more_button = driver.find_elements(By.XPATH,'//*[@id=\"islmp\"]/div/div/div/div/div[1]/div[2]/div[2]/input')\n",
        "                driver.execute_script(\"document.querySelector('.mye4qd').click();\")\n",
        "                results_start = len(thumbnail_results)\n",
        "    return img_urls\n",
        "    print(img_urls);"
      ]
    },
    {
      "cell_type": "markdown",
      "source": [],
      "metadata": {
        "id": "OmcKD8AwiF16"
      }
    },
    {
      "cell_type": "markdown",
      "metadata": {
        "id": "vSnkx9-LdMpa"
      },
      "source": [
        "**Écrire une fonction pour télécharger chaque image**"
      ]
    },
    {
      "cell_type": "code",
      "execution_count": 33,
      "metadata": {
        "id": "o1anBYPoWZ4_"
      },
      "outputs": [],
      "source": [
        "def downloadImages(folder_path,file_name,url):\n",
        "    try:\n",
        "        image_content = requests.get(url).content\n",
        "\n",
        "    except Exception as e:\n",
        "        print(f\"ERROR - COULD NOT DOWNLOAD {url} - {e}\")\n",
        "\n",
        "    try:\n",
        "        image_file = io.BytesIO(image_content)\n",
        "        image = Image.open(image_file).convert('RGB')\n",
        "\n",
        "        file_path = os.path.join(folder_path, file_name)\n",
        "\n",
        "        with open(file_path, 'wb') as f:\n",
        "            image.save(f, \"JPEG\", quality=85)\n",
        "        print(f\"SAVED - {url} - AT: {file_path}\")\n",
        "    except Exception as e:\n",
        "\n",
        "        print(f\"ERROR - COULD NOT SAVE {url} - {e}\")"
      ]
    },
    {
      "cell_type": "code",
      "execution_count": 38,
      "metadata": {
        "id": "56mxx9oSYco3"
      },
      "outputs": [],
      "source": [
        "searchNames=[\"liste de nom\", \"liste classe\"]"
      ]
    },
    {
      "cell_type": "markdown",
      "metadata": {
        "id": "aOc6Q76kdbVl"
      },
      "source": [
        "**Écrire une fonction pour enregistrer chaque image dans le répertoire de destination**"
      ]
    },
    {
      "cell_type": "code",
      "execution_count": 35,
      "metadata": {
        "id": "_bVHSS0Xo6nh",
        "outputId": "b451aec9-8a3a-45b6-c8f1-addf441c30c6",
        "colab": {
          "base_uri": "https://localhost:8080/",
          "height": 824
        }
      },
      "outputs": [
        {
          "output_type": "stream",
          "name": "stdout",
          "text": [
            "Current Path /content/liste de nom\n",
            "Found: 100 search results. Extracting links from 0:100\n",
            "Found: 0 looking for more image links ...\n"
          ]
        },
        {
          "output_type": "error",
          "ename": "JavascriptException",
          "evalue": "ignored",
          "traceback": [
            "\u001b[0;31m---------------------------------------------------------------------------\u001b[0m",
            "\u001b[0;31mJavascriptException\u001b[0m                       Traceback (most recent call last)",
            "\u001b[0;32m<ipython-input-35-950d2e3dea8f>\u001b[0m in \u001b[0;36m<cell line: 22>\u001b[0;34m()\u001b[0m\n\u001b[1;32m     20\u001b[0m \u001b[0mtotalImgs\u001b[0m\u001b[0;34m=\u001b[0m\u001b[0;36m10\u001b[0m\u001b[0;34m\u001b[0m\u001b[0;34m\u001b[0m\u001b[0m\n\u001b[1;32m     21\u001b[0m \u001b[0;34m\u001b[0m\u001b[0m\n\u001b[0;32m---> 22\u001b[0;31m \u001b[0msaveInDestFolder\u001b[0m\u001b[0;34m(\u001b[0m\u001b[0msearchNames\u001b[0m\u001b[0;34m,\u001b[0m\u001b[0mdestDir\u001b[0m\u001b[0;34m,\u001b[0m\u001b[0mtotalImgs\u001b[0m\u001b[0;34m,\u001b[0m\u001b[0mdriver\u001b[0m\u001b[0;34m)\u001b[0m\u001b[0;34m\u001b[0m\u001b[0;34m\u001b[0m\u001b[0m\n\u001b[0m",
            "\u001b[0;32m<ipython-input-35-950d2e3dea8f>\u001b[0m in \u001b[0;36msaveInDestFolder\u001b[0;34m(searchNames, destDir, totalImgs, driver)\u001b[0m\n\u001b[1;32m      5\u001b[0m             \u001b[0mos\u001b[0m\u001b[0;34m.\u001b[0m\u001b[0mmkdir\u001b[0m\u001b[0;34m(\u001b[0m\u001b[0mpath\u001b[0m\u001b[0;34m)\u001b[0m\u001b[0;34m\u001b[0m\u001b[0;34m\u001b[0m\u001b[0m\n\u001b[1;32m      6\u001b[0m         \u001b[0mprint\u001b[0m\u001b[0;34m(\u001b[0m\u001b[0;34m'Current Path'\u001b[0m\u001b[0;34m,\u001b[0m\u001b[0mpath\u001b[0m\u001b[0;34m)\u001b[0m\u001b[0;34m\u001b[0m\u001b[0;34m\u001b[0m\u001b[0m\n\u001b[0;32m----> 7\u001b[0;31m         \u001b[0mtotalLinks\u001b[0m\u001b[0;34m=\u001b[0m\u001b[0mgetImageUrls\u001b[0m\u001b[0;34m(\u001b[0m\u001b[0mname\u001b[0m\u001b[0;34m,\u001b[0m\u001b[0mtotalImgs\u001b[0m\u001b[0;34m,\u001b[0m\u001b[0mdriver\u001b[0m\u001b[0;34m)\u001b[0m\u001b[0;34m\u001b[0m\u001b[0;34m\u001b[0m\u001b[0m\n\u001b[0m\u001b[1;32m      8\u001b[0m         \u001b[0mprint\u001b[0m\u001b[0;34m(\u001b[0m\u001b[0;34m'totalLinks'\u001b[0m\u001b[0;34m,\u001b[0m\u001b[0mtotalLinks\u001b[0m\u001b[0;34m)\u001b[0m\u001b[0;34m\u001b[0m\u001b[0;34m\u001b[0m\u001b[0m\n\u001b[1;32m      9\u001b[0m \u001b[0;34m\u001b[0m\u001b[0m\n",
            "\u001b[0;32m<ipython-input-32-0705a0bf95d7>\u001b[0m in \u001b[0;36mgetImageUrls\u001b[0;34m(name, totalImgs, driver)\u001b[0m\n\u001b[1;32m     44\u001b[0m                 \u001b[0;31m#localiser et définir load_more_button en utilisant driver.find_elements\u001b[0m\u001b[0;34m\u001b[0m\u001b[0;34m\u001b[0m\u001b[0m\n\u001b[1;32m     45\u001b[0m                 \u001b[0mload_more_button\u001b[0m \u001b[0;34m=\u001b[0m \u001b[0mdriver\u001b[0m\u001b[0;34m.\u001b[0m\u001b[0mfind_elements\u001b[0m\u001b[0;34m(\u001b[0m\u001b[0mBy\u001b[0m\u001b[0;34m.\u001b[0m\u001b[0mXPATH\u001b[0m\u001b[0;34m,\u001b[0m\u001b[0;34m'//*[@id=\"islmp\"]/div/div/div/div/div[1]/div[2]/div[2]/input'\u001b[0m\u001b[0;34m)\u001b[0m\u001b[0;34m\u001b[0m\u001b[0;34m\u001b[0m\u001b[0m\n\u001b[0;32m---> 46\u001b[0;31m                 \u001b[0mdriver\u001b[0m\u001b[0;34m.\u001b[0m\u001b[0mexecute_script\u001b[0m\u001b[0;34m(\u001b[0m\u001b[0;34m\"document.querySelector('.mye4qd').click();\"\u001b[0m\u001b[0;34m)\u001b[0m\u001b[0;34m\u001b[0m\u001b[0;34m\u001b[0m\u001b[0m\n\u001b[0m\u001b[1;32m     47\u001b[0m                 \u001b[0mresults_start\u001b[0m \u001b[0;34m=\u001b[0m \u001b[0mlen\u001b[0m\u001b[0;34m(\u001b[0m\u001b[0mthumbnail_results\u001b[0m\u001b[0;34m)\u001b[0m\u001b[0;34m\u001b[0m\u001b[0;34m\u001b[0m\u001b[0m\n\u001b[1;32m     48\u001b[0m     \u001b[0;32mreturn\u001b[0m \u001b[0mimg_urls\u001b[0m\u001b[0;34m\u001b[0m\u001b[0;34m\u001b[0m\u001b[0m\n",
            "\u001b[0;32m/usr/local/lib/python3.10/dist-packages/selenium/webdriver/remote/webdriver.py\u001b[0m in \u001b[0;36mexecute_script\u001b[0;34m(self, script, *args)\u001b[0m\n\u001b[1;32m    404\u001b[0m         \u001b[0mcommand\u001b[0m \u001b[0;34m=\u001b[0m \u001b[0mCommand\u001b[0m\u001b[0;34m.\u001b[0m\u001b[0mW3C_EXECUTE_SCRIPT\u001b[0m\u001b[0;34m\u001b[0m\u001b[0;34m\u001b[0m\u001b[0m\n\u001b[1;32m    405\u001b[0m \u001b[0;34m\u001b[0m\u001b[0m\n\u001b[0;32m--> 406\u001b[0;31m         \u001b[0;32mreturn\u001b[0m \u001b[0mself\u001b[0m\u001b[0;34m.\u001b[0m\u001b[0mexecute\u001b[0m\u001b[0;34m(\u001b[0m\u001b[0mcommand\u001b[0m\u001b[0;34m,\u001b[0m \u001b[0;34m{\u001b[0m\u001b[0;34m\"script\"\u001b[0m\u001b[0;34m:\u001b[0m \u001b[0mscript\u001b[0m\u001b[0;34m,\u001b[0m \u001b[0;34m\"args\"\u001b[0m\u001b[0;34m:\u001b[0m \u001b[0mconverted_args\u001b[0m\u001b[0;34m}\u001b[0m\u001b[0;34m)\u001b[0m\u001b[0;34m[\u001b[0m\u001b[0;34m\"value\"\u001b[0m\u001b[0;34m]\u001b[0m\u001b[0;34m\u001b[0m\u001b[0;34m\u001b[0m\u001b[0m\n\u001b[0m\u001b[1;32m    407\u001b[0m \u001b[0;34m\u001b[0m\u001b[0m\n\u001b[1;32m    408\u001b[0m     \u001b[0;32mdef\u001b[0m \u001b[0mexecute_async_script\u001b[0m\u001b[0;34m(\u001b[0m\u001b[0mself\u001b[0m\u001b[0;34m,\u001b[0m \u001b[0mscript\u001b[0m\u001b[0;34m:\u001b[0m \u001b[0mstr\u001b[0m\u001b[0;34m,\u001b[0m \u001b[0;34m*\u001b[0m\u001b[0margs\u001b[0m\u001b[0;34m)\u001b[0m\u001b[0;34m:\u001b[0m\u001b[0;34m\u001b[0m\u001b[0;34m\u001b[0m\u001b[0m\n",
            "\u001b[0;32m/usr/local/lib/python3.10/dist-packages/selenium/webdriver/remote/webdriver.py\u001b[0m in \u001b[0;36mexecute\u001b[0;34m(self, driver_command, params)\u001b[0m\n\u001b[1;32m    344\u001b[0m         \u001b[0mresponse\u001b[0m \u001b[0;34m=\u001b[0m \u001b[0mself\u001b[0m\u001b[0;34m.\u001b[0m\u001b[0mcommand_executor\u001b[0m\u001b[0;34m.\u001b[0m\u001b[0mexecute\u001b[0m\u001b[0;34m(\u001b[0m\u001b[0mdriver_command\u001b[0m\u001b[0;34m,\u001b[0m \u001b[0mparams\u001b[0m\u001b[0;34m)\u001b[0m\u001b[0;34m\u001b[0m\u001b[0;34m\u001b[0m\u001b[0m\n\u001b[1;32m    345\u001b[0m         \u001b[0;32mif\u001b[0m \u001b[0mresponse\u001b[0m\u001b[0;34m:\u001b[0m\u001b[0;34m\u001b[0m\u001b[0;34m\u001b[0m\u001b[0m\n\u001b[0;32m--> 346\u001b[0;31m             \u001b[0mself\u001b[0m\u001b[0;34m.\u001b[0m\u001b[0merror_handler\u001b[0m\u001b[0;34m.\u001b[0m\u001b[0mcheck_response\u001b[0m\u001b[0;34m(\u001b[0m\u001b[0mresponse\u001b[0m\u001b[0;34m)\u001b[0m\u001b[0;34m\u001b[0m\u001b[0;34m\u001b[0m\u001b[0m\n\u001b[0m\u001b[1;32m    347\u001b[0m             \u001b[0mresponse\u001b[0m\u001b[0;34m[\u001b[0m\u001b[0;34m\"value\"\u001b[0m\u001b[0;34m]\u001b[0m \u001b[0;34m=\u001b[0m \u001b[0mself\u001b[0m\u001b[0;34m.\u001b[0m\u001b[0m_unwrap_value\u001b[0m\u001b[0;34m(\u001b[0m\u001b[0mresponse\u001b[0m\u001b[0;34m.\u001b[0m\u001b[0mget\u001b[0m\u001b[0;34m(\u001b[0m\u001b[0;34m\"value\"\u001b[0m\u001b[0;34m,\u001b[0m \u001b[0;32mNone\u001b[0m\u001b[0;34m)\u001b[0m\u001b[0;34m)\u001b[0m\u001b[0;34m\u001b[0m\u001b[0;34m\u001b[0m\u001b[0m\n\u001b[1;32m    348\u001b[0m             \u001b[0;32mreturn\u001b[0m \u001b[0mresponse\u001b[0m\u001b[0;34m\u001b[0m\u001b[0;34m\u001b[0m\u001b[0m\n",
            "\u001b[0;32m/usr/local/lib/python3.10/dist-packages/selenium/webdriver/remote/errorhandler.py\u001b[0m in \u001b[0;36mcheck_response\u001b[0;34m(self, response)\u001b[0m\n\u001b[1;32m    227\u001b[0m                 \u001b[0malert_text\u001b[0m \u001b[0;34m=\u001b[0m \u001b[0mvalue\u001b[0m\u001b[0;34m[\u001b[0m\u001b[0;34m\"alert\"\u001b[0m\u001b[0;34m]\u001b[0m\u001b[0;34m.\u001b[0m\u001b[0mget\u001b[0m\u001b[0;34m(\u001b[0m\u001b[0;34m\"text\"\u001b[0m\u001b[0;34m)\u001b[0m\u001b[0;34m\u001b[0m\u001b[0;34m\u001b[0m\u001b[0m\n\u001b[1;32m    228\u001b[0m             \u001b[0;32mraise\u001b[0m \u001b[0mexception_class\u001b[0m\u001b[0;34m(\u001b[0m\u001b[0mmessage\u001b[0m\u001b[0;34m,\u001b[0m \u001b[0mscreen\u001b[0m\u001b[0;34m,\u001b[0m \u001b[0mstacktrace\u001b[0m\u001b[0;34m,\u001b[0m \u001b[0malert_text\u001b[0m\u001b[0;34m)\u001b[0m  \u001b[0;31m# type: ignore[call-arg]  # mypy is not smart enough here\u001b[0m\u001b[0;34m\u001b[0m\u001b[0;34m\u001b[0m\u001b[0m\n\u001b[0;32m--> 229\u001b[0;31m         \u001b[0;32mraise\u001b[0m \u001b[0mexception_class\u001b[0m\u001b[0;34m(\u001b[0m\u001b[0mmessage\u001b[0m\u001b[0;34m,\u001b[0m \u001b[0mscreen\u001b[0m\u001b[0;34m,\u001b[0m \u001b[0mstacktrace\u001b[0m\u001b[0;34m)\u001b[0m\u001b[0;34m\u001b[0m\u001b[0;34m\u001b[0m\u001b[0m\n\u001b[0m",
            "\u001b[0;31mJavascriptException\u001b[0m: Message: javascript error: Cannot read properties of null (reading 'click')\n  (Session info: headless chrome=108.0.5359.40)\nStacktrace:\n#0 0x55d49318eac2 <unknown>\n#1 0x55d4931391f3 <unknown>\n#2 0x55d492eaf3a4 <unknown>\n#3 0x55d492eb2f70 <unknown>\n#4 0x55d492eb2d9e <unknown>\n#5 0x55d492eb3890 <unknown>\n#6 0x55d492f1e101 <unknown>\n#7 0x55d492f064e2 <unknown>\n#8 0x55d492f1d7c4 <unknown>\n#9 0x55d492f067f3 <unknown>\n#10 0x55d492edbea3 <unknown>\n#11 0x55d492edd255 <unknown>\n#12 0x55d4931641b0 <unknown>\n#13 0x55d493176acf <unknown>\n#14 0x55d493176510 <unknown>\n#15 0x55d4931771e5 <unknown>\n#16 0x55d4931bb51a <unknown>\n#17 0x55d493177524 <unknown>\n#18 0x55d493155eae <unknown>\n#19 0x55d493182768 <unknown>\n#20 0x55d493182887 <unknown>\n#21 0x55d49319bef0 <unknown>\n#22 0x7a1a09ce1ac3 <unknown>\n#23 0x7a1a09d73a40 <unknown>\n"
          ]
        }
      ],
      "source": [
        "def saveInDestFolder(searchNames,destDir,totalImgs,driver):\n",
        "    for name in list(searchNames):\n",
        "        path=os.path.join(destDir,name)\n",
        "        if not os.path.isdir(path):\n",
        "            os.mkdir(path)\n",
        "        print('Current Path',path)\n",
        "        totalLinks=getImageUrls(name,totalImgs,driver)\n",
        "        print('totalLinks',totalLinks)\n",
        "\n",
        "        if totalLinks is None:\n",
        "            print('images not found for :',name)\n",
        "            continue\n",
        "        else:\n",
        "            for i, link in enumerate(totalLinks):\n",
        "                file_name = f\"{i:150}.jpg\"\n",
        "                downloadImages(path,file_name,link)\n",
        "\n",
        "destDir=f'/content/'\n",
        "\n",
        "totalImgs=10\n",
        "\n",
        "saveInDestFolder(searchNames,destDir,totalImgs,driver)"
      ]
    }
  ],
  "metadata": {
    "kernelspec": {
      "display_name": "Python 3",
      "name": "python3"
    },
    "language_info": {
      "name": "python"
    },
    "colab": {
      "provenance": []
    }
  },
  "nbformat": 4,
  "nbformat_minor": 0
}