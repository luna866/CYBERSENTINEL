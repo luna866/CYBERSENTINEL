{
 "cells": [
  {
   "cell_type": "markdown",
   "metadata": {},
   "source": [
    "## **-- LISTE DES ELEVES PROPRE ET COMPLETE --**"
   ]
  },
  {
   "cell_type": "code",
   "execution_count": 1,
   "metadata": {},
   "outputs": [],
   "source": [
    "import numpy as np\n",
    "import matplotlib.pyplot as plt\n",
    "import os\n",
    "import pandas as pd\n",
    "import email\n",
    "from email import policy\n",
    "from email.parser import BytesParser\n",
    "import re"
   ]
  },
  {
   "cell_type": "code",
   "execution_count": 2,
   "metadata": {},
   "outputs": [],
   "source": [
    "eleve = pd.read_csv(r'C:\\Users\\steph\\Documents\\projet\\liste_eleve.csv', encoding='ISO-8859-1', delimiter=';', header=0)"
   ]
  },
  {
   "cell_type": "code",
   "execution_count": 3,
   "metadata": {},
   "outputs": [
    {
     "name": "stdout",
     "output_type": "stream",
     "text": [
      "   NÂ°          Nom   PrÃ©nom   NÃ©(e) le Sexe Niveau\n",
      "0    1     AUGEREAU  Amandine  09/04/2016    F     PS\n",
      "1    2  BLEVIN KALT      Malo  15/08/2016    M     PS\n",
      "2    3     BOUFFARD      Jade  27/03/2016    F     PS\n",
      "3    4      BOURGES    Thï¿½o  28/07/2016    M     PS\n",
      "4    5         COTO     Louis  13/04/2016    M     PS\n",
      "<class 'pandas.core.frame.DataFrame'>\n",
      "RangeIndex: 24 entries, 0 to 23\n",
      "Data columns (total 6 columns):\n",
      " #   Column     Non-Null Count  Dtype \n",
      "---  ------     --------------  ----- \n",
      " 0   NÂ°        24 non-null     int64 \n",
      " 1   Nom        24 non-null     object\n",
      " 2   PrÃ©nom    24 non-null     object\n",
      " 3   NÃ©(e) le  24 non-null     object\n",
      " 4   Sexe       24 non-null     object\n",
      " 5   Niveau     24 non-null     object\n",
      "dtypes: int64(1), object(5)\n",
      "memory usage: 1.3+ KB\n",
      "None\n"
     ]
    }
   ],
   "source": [
    "# Afficher les 5 premières lignes du DataFrame\n",
    "print(eleve.head())\n",
    "\n",
    "# Afficher des informations sur le DataFrame\n",
    "print(eleve.info())"
   ]
  },
  {
   "cell_type": "code",
   "execution_count": 4,
   "metadata": {},
   "outputs": [
    {
     "name": "stdout",
     "output_type": "stream",
     "text": [
      "Index(['NÂ°', 'Nom', 'PrÃ©nom', 'NÃ©(e) le', 'Sexe', 'Niveau'], dtype='object')\n",
      "    NÂ°            Nom    PrÃ©nom   NÃ©(e) le Sexe Niveau\n",
      "0     1       AUGEREAU   Amandine  09/04/2016    F     PS\n",
      "1     2    BLEVIN KALT       Malo  15/08/2016    M     PS\n",
      "2     3       BOUFFARD       Jade  27/03/2016    F     PS\n",
      "3     4        BOURGES       Theo  28/07/2016    M     PS\n",
      "4     5           COTO      Louis  13/04/2016    M     PS\n",
      "5     6        DERONNE       Theo  12/02/2016    M     PS\n",
      "6     7        EHRHART    Georges  29/05/2016    M     PS\n",
      "7     8        ETCHART       Leon  21/01/2016    M     PS\n",
      "8     9         FLAMEN     Victor  27/03/2016    M     PS\n",
      "9    10   FOTSO LAUDEN      Clara  29/07/2016    F     PS\n",
      "10   11          JEMNI     Kinane  14/03/2016    M     PS\n",
      "11   12         LEDOUX      Brune  16/12/2016    F     PS\n",
      "12   13       PERCEROU      Diane  29/04/2016    F     PS\n",
      "13   14          REDON   Apolline  14/01/2016    F     PS\n",
      "14   15         SEVENO   Eleonore  18/01/2016    F     PS\n",
      "15   16    TEKPA BOUME      Lilya  31/05/2016    F     PS\n",
      "16   17         TISSOT   Juliette  06/07/2016    F     PS\n",
      "17   18         AZEGZA       Amir  03/06/2015    M     MS\n",
      "18   19     BARRIENTOS       Luis  24/08/2015    M     MS\n",
      "19   20  EMILIO PASSOS      David  24/06/2015    M     MS\n",
      "20   21  KITH DAPOIGNY     Mathys  12/05/2015    M     MS\n",
      "21   22        MELLITI       Ines  03/11/2015    F     MS\n",
      "22   23        SANCHEZ        Zoe  24/09/2015    F     MS\n",
      "23   24           TEJO  Margarida  25/07/2015    F     MS\n"
     ]
    }
   ],
   "source": [
    "# Affichez les noms de colonnes pour vérifier le bon nom\n",
    "print(eleve.columns)\n",
    "\n",
    "# Remplacez les caractères spéciaux\n",
    "eleve['PrÃ©nom'] = eleve['PrÃ©nom'].str.replace('ï¿½', 'e')\n",
    "print(eleve)"
   ]
  },
  {
   "cell_type": "code",
   "execution_count": 5,
   "metadata": {},
   "outputs": [
    {
     "name": "stdout",
     "output_type": "stream",
     "text": [
      "              Nom    PrÃ©nom Niveau_eleve                 Adresse e-mail\n",
      "0        AUGEREAU   Amandine           PS           miliefou@hotmail.com\n",
      "1     BLEVIN KALT       Malo           PS              agneskalt@msn.com\n",
      "2        BOUFFARD       Jade           PS         bouffard.jul@gmail.com\n",
      "3         BOURGES       Theo           PS      chirio.jennifer@gmail.com\n",
      "4            COTO      Louis           PS        clairerobert4@gmail.com\n",
      "5         DERONNE       Theo           PS      chirio.jennifer@gmail.com\n",
      "6         EHRHART    Georges           PS      berengere.hardy@gmail.com\n",
      "7         ETCHART       Leon           PS          evi.vega84@icloud.com\n",
      "8          FLAMEN     Victor           PS            gerthies@hotmail.fr\n",
      "9    FOTSO LAUDEN      Clara           PS          elise.lauden@yahoo.fr\n",
      "10          JEMNI     Kinane           PS      kilanihinda33@hotmail.com\n",
      "11         LEDOUX      Brune           PS     elodielelievre@hotmail.com\n",
      "12       PERCEROU      Diane           PS          rossidelala@gmail.com\n",
      "13          REDON   Apolline           PS         bibardkarine@gmail.com\n",
      "14         SEVENO   Eleonore           PS               fosflo@gmail.com\n",
      "15    TEKPA BOUME      Lilya           PS            bimalezita@yahoo.fr\n",
      "16         TISSOT   Juliette           PS       tissot.aline@laposte.net\n",
      "17         AZEGZA       Amir           MS           ouailou33@hotmail.fr\n",
      "18     BARRIENTOS       Luis           MS  luistiagobarrientos@gmail.com\n",
      "19  EMILIO PASSOS      David           MS        soniaemilio52@gmail.com\n",
      "20  KITH DAPOIGNY     Mathys           MS               sokunkt@yahoo.fr\n",
      "21        MELLITI       Ines           MS     mellitistephanie@gmail.com\n",
      "22        SANCHEZ        Zoe           MS        sophiebuganza@gmail.com\n",
      "24           TEJO  Margarida           MS       dteresa.tejo@hotmail.com\n"
     ]
    }
   ],
   "source": [
    "chemin_fichier_eml = r'C:\\Users\\steph\\Documents\\projet\\histoire.eml'\n",
    "\n",
    "PRENOM = 'PrÃ©nom'\n",
    "NIVEAU = 'Niveau'\n",
    "ADRESSE_EMAIL = 'Adresse e-mail'\n",
    "\n",
    "def ouvrir_fichier(chemin_fichier):\n",
    "    try:\n",
    "        with open(chemin_fichier, 'rb') as fichier_eml:\n",
    "            return BytesParser(policy=policy.default).parse(fichier_eml)\n",
    "    except FileNotFoundError:\n",
    "        print(f\"Le fichier {chemin_fichier} n'a pas été trouvé.\")\n",
    "        return None\n",
    "\n",
    "def extraire_destinataires(message):\n",
    "    destinataires = []\n",
    "    for destinataire in message.get_all('to', []):\n",
    "        for nom, adresse_mail in email.utils.getaddresses([destinataire]):\n",
    "            nom = nom.replace('\"', '').title()\n",
    "            nom = nom.replace('Apoliine', 'Apolline').title()\n",
    "            nom = nom.replace('Zoé', 'Zoe').title()\n",
    "            nom = nom.replace('Inès', 'Ines').title()\n",
    "            niveau = None\n",
    "            if \"Ps\" in nom:\n",
    "                niveau = \"PS\"\n",
    "                nom = nom.replace(\"Ps\", \"\")\n",
    "            elif \"Ms\" in nom:\n",
    "                niveau = \"MS\"\n",
    "                nom = nom.replace(\"Ms\", \"\")\n",
    "            prenom = nom.split()[0] if nom else None\n",
    "            destinataires.append({PRENOM: prenom, NIVEAU: niveau, ADRESSE_EMAIL: adresse_mail})\n",
    "    return destinataires\n",
    "\n",
    "def fusionner_dataframes(df1, df2):\n",
    "    df1[PRENOM] = df1[PRENOM].str.title()\n",
    "    df2[PRENOM] = df2[PRENOM].str.title()\n",
    "    df = pd.merge(df1, df2, how='left', on=PRENOM, suffixes=('_eleve', '_dest'))\n",
    "    df = df.drop_duplicates()\n",
    "    return df\n",
    "\n",
    "# Utilisation des fonctions\n",
    "message = ouvrir_fichier(chemin_fichier_eml)\n",
    "if message:\n",
    "    destinataires = extraire_destinataires(message)\n",
    "    destinataires_df = pd.DataFrame(destinataires)\n",
    "    eleve = fusionner_dataframes(eleve, destinataires_df)\n",
    "print(eleve[['Nom', 'PrÃ©nom', 'Niveau_eleve', 'Adresse e-mail']])"
   ]
  },
  {
   "cell_type": "code",
   "execution_count": 6,
   "metadata": {},
   "outputs": [
    {
     "name": "stdout",
     "output_type": "stream",
     "text": [
      "Index(['NÂ°', 'Nom', 'PrÃ©nom', 'NÃ©(e) le', 'Sexe', 'Niveau_eleve',\n",
      "       'Niveau_dest', 'Adresse e-mail'],\n",
      "      dtype='object')\n"
     ]
    }
   ],
   "source": [
    "print(eleve.columns)"
   ]
  }
 ],
 "metadata": {
  "kernelspec": {
   "display_name": "Python 3",
   "language": "python",
   "name": "python3"
  },
  "language_info": {
   "codemirror_mode": {
    "name": "ipython",
    "version": 3
   },
   "file_extension": ".py",
   "mimetype": "text/x-python",
   "name": "python",
   "nbconvert_exporter": "python",
   "pygments_lexer": "ipython3",
   "version": "3.11.6"
  }
 },
 "nbformat": 4,
 "nbformat_minor": 2
}
