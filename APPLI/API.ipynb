{
 "cells": [
  {
   "cell_type": "code",
   "execution_count": 1,
   "metadata": {},
   "outputs": [
    {
     "name": "stderr",
     "output_type": "stream",
     "text": [
      "\n",
      "[notice] A new release of pip is available: 23.3.1 -> 23.3.2\n",
      "[notice] To update, run: C:\\Users\\steph\\AppData\\Local\\Microsoft\\WindowsApps\\PythonSoftwareFoundation.Python.3.11_qbz5n2kfra8p0\\python.exe -m pip install --upgrade pip\n"
     ]
    }
   ],
   "source": [
    "! pip install -q streamlit"
   ]
  },
  {
   "cell_type": "code",
   "execution_count": 3,
   "metadata": {},
   "outputs": [
    {
     "name": "stdout",
     "output_type": "stream",
     "text": [
      "Overwriting streamlit_app.py\n"
     ]
    }
   ],
   "source": [
    "%%writefile streamlit_app.py\n",
    "import streamlit as st\n",
    "import pandas as pd\n",
    "import numpy as np\n",
    "import joblib\n",
    "from sklearn.preprocessing import OneHotEncoder\n",
    "from sklearn.pipeline import Pipeline\n",
    "\n",
    "# Charger le modèle\n",
    "id=1\n",
    "clf = joblib.load('D:\\CYBERSENTINEL\\ML\\LABEL\\modelcode.pkl')\n",
    "\n",
    "# Définir le titre et la page\n",
    "st.set_page_config(page_title='CYBERSENTINEL', page_icon='🔒', layout='wide')\n",
    "st.title(\"Détecteur d'intrusion\")\n",
    "\n",
    "# Insérer une image\n",
    "st.image('D:\\M2i\\RNCP\\RNCP_CDC\\LogoCybersentinel\\logopetit.png')\n",
    "\n",
    "#  Créer des widgets pour recueillir de nouvelles données\n",
    "srcip = st.text_input('srcip')\n",
    "sport = st.number_input('sport', min_value=0)\n",
    "dstip = st.text_input('dstip')\n",
    "dsport = st.number_input('dsport')\n",
    "proto = st.selectbox('proto', ['udp', 'arp', 'tcp', 'ospf', 'icmp', 'igmp', 'sctp', 'udt', 'sep', 'sun-nd', 'swipe', 'mobile', 'pim', 'rtp', 'ipnip', 'ip', 'ggp', 'st2', 'egp', 'cbt', 'emcon', 'nvp', 'igp', 'xnet', 'argus', 'bbn-rcc', 'chaos', 'pup', 'hmp', 'mux', 'dcn', 'prm', 'trunk-1', 'xns-idp', 'trunk-2', 'leaf-1', 'leaf-2', 'irtp', 'rdp', 'iso-tp4', 'netblt', 'mfe-nsp', 'merit-inp', '3pc', 'xtp', 'idpr', 'tp++', 'ddp', 'idpr-cmtp', 'ipv6', 'il', 'idrp', 'ipv6-frag', 'sdrp', 'ipv6-route', 'gre', 'rsvp', 'mhrp', 'bna', 'esp', 'i-nlsp', 'narp', 'ipv6-no', 'tlsp', 'skip', 'ipv6-opts', 'any', 'cftp', 'sat-expak', 'kryptolan', 'rvd', 'ippc', 'sat-mon', 'ipcv', 'visa', 'cpnx', 'cphb', 'wsn', 'pvp', 'br-sat-mon', 'wb-mon', 'wb-expak', 'iso-ip', 'secure-vmtp', 'vmtp', 'vines', 'ttp', 'nsfnet-igp', 'dgp', 'tcf', 'eigrp', 'sprite-rpc', 'larp', 'mtp', 'ax.25', 'ipip', 'micp', 'aes-sp3-d', 'encap', 'etherip', 'pri-enc', 'gmtp', 'pnni', 'ifmp', 'aris', 'qnx', 'a/n', 'scps', 'snp', 'ipcomp', 'compaq-peer', 'ipx-n-ip', 'vrrp', 'zero', 'pgm', 'iatp', 'ddx', 'l2tp', 'srp', 'stp', 'smp', 'uti', 'sm', 'ptp', 'fire', 'crtp', 'isis', 'crudp', 'sccopmce', 'sps', 'pipe', 'iplt', 'unas', 'fc', 'ib'])\n",
    "state = st.selectbox('state', ['CON', 'INT', 'FIN', 'URH', 'REQ', 'ECO', 'RST', 'CLO', 'TXD', 'URN', 'no', 'ACC', 'PAR', 'MAS', 'TST', 'ECR'])\n",
    "dur = st.number_input('dur', min_value=0)\n",
    "dbytes = st.number_input('dbytes')\n",
    "sttl = st.number_input('sttl')\n",
    "dttl = st.number_input('dttl')\n",
    "sloss = st.number_input('sloss')\n",
    "service = st.selectbox('service', ['-', 'dns', 'http', 'smtp', 'ftp-data', 'ftp', 'ssh', 'pop3', 'snmp', 'ssl', 'irc','radius', 'dhcp'])\n",
    "sload = st.number_input('sload')\n",
    "dload = st.number_input('dload')\n",
    "spkts = st.number_input('spkts')\n",
    "swin = st.number_input('swin')\n",
    "stcpb = st.number_input('stcpb')\n",
    "dtcpb = st.number_input('dtcpb')\n",
    "smeansz = st.number_input('smeansz')\n",
    "dmeansz = st.number_input('dmeansz')\n",
    "trans_depth = st.number_input('trans_depth')\n",
    "res_bdy_len = st.number_input('res_bdy_len')\n",
    "sjit = st.number_input('sjit')\n",
    "djit = st.number_input('djit')\n",
    "stime = st.number_input('stime')\n",
    "ltime = st.number_input('ltime')\n",
    "sintpkt = st.number_input('sintpkt')\n",
    "dintpkt = st.number_input('dintpkt')\n",
    "synack = st.number_input('synack')\n",
    "ackdat = st.number_input('ackdat')\n",
    "is_sm_ips_ports = st.selectbox('is_sm_ips_ports', [0,1])\n",
    "ct_state_ttl = st.number_input('ct_state_ttl')\n",
    "ct_flw_http_mthd = st.number_input('ct_flw_http_mthd')\n",
    "is_ftp_login = st.number_input('is_ftp_login')\n",
    "ct_ftp_cmd = st.selectbox('ct_ftp_cmd', [0, 1, 6, 2, 4, 8, 5, 3])\n",
    "ct_srv_src = st.number_input('ct_srv_src')\n",
    "\n",
    "# Créer un dataframe avec les nouvelles données\n",
    "new_data = pd.DataFrame(\n",
    "    data=np.array([[srcip, sport, dstip, dsport, proto, state,\n",
    "       dur, dbytes, sttl, dttl, sloss, service, sload, dload,\n",
    "       spkts, swin, stcpb, dtcpb, smeansz, dmeansz, trans_depth,\n",
    "       res_bdy_len, sjit, djit, stime, ltime, sintpkt, dintpkt,\n",
    "       synack, ackdat, is_sm_ips_ports, ct_state_ttl,\n",
    "       ct_flw_http_mthd, is_ftp_login, ct_ftp_cmd, ct_srv_src]]),\n",
    "    columns=['srcip', 'sport', 'dstip', 'dsport', 'proto', 'state',\n",
    "       'dur', 'dbytes', 'sttl', 'dttl', 'sloss', 'service', 'sload', 'dload',\n",
    "       'spkts', 'swin', 'stcpb', 'dtcpb', 'smeansz', 'dmeansz', 'trans_depth',\n",
    "       'res_bdy_len', 'sjit', 'djit', 'stime', 'ltime', 'sintpkt', 'dintpkt',\n",
    "       'synack', 'ackdat', 'is_sm_ips_ports', 'ct_state_ttl',\n",
    "       'ct_flw_http_mthd', 'is_ftp_login', 'ct_ftp_cmd', 'ct_srv_src'])\n",
    "\n",
    "# Charger les données d'entraînement\n",
    "train = pd.read_csv(r'D:\\CYBERSENTINEL\\ML\\reste.csv')\n",
    "\n",
    "# Sélectionner uniquement les colonnes numériques\n",
    "numeric_columns = train.select_dtypes(include=[np.number])\n",
    "\n",
    "# Calculer les valeurs médianes\n",
    "median_values = numeric_columns.median()\n",
    "\n",
    "# Créer le bouton\n",
    "if st.button('Remplir avec les valeurs médianes'):\n",
    "    sport = st.number_input('sport', value=int(median_values['sport']))\n",
    "    dur = st.number_input('dur', value=median_values['dur'])\n",
    "    dbytes = st.number_input('dbytes', value=int(median_values['dbytes']))\n",
    "    sttl = st.number_input('sttl', value=int(median_values['sttl']))\n",
    "    dttl = st.number_input('dttl', value=int(median_values['dttl']))\n",
    "    sloss = st.number_input('sloss', value=int(median_values['sloss']))\n",
    "    sload = st.number_input('sload', value=median_values['sload'])\n",
    "    dload = st.number_input('dload', value=median_values['dload'])\n",
    "    spkts = st.number_input('spkts', value=int(median_values['spkts']))\n",
    "    swin = st.number_input('swin', value=int(median_values['swin']))\n",
    "    stcpb = st.number_input('stcpb', value=int(median_values['stcpb']))\n",
    "    dtcpb = st.number_input('dtcpb', value=int(median_values['dtcpb']))\n",
    "    smeansz = st.number_input('smeansz', value=int(median_values['smeansz']))\n",
    "    dmeansz = st.number_input('dmeansz', value=int(median_values['dmeansz']))\n",
    "    trans_depth = st.number_input('trans_depth', value=int(median_values['trans_depth']))\n",
    "    res_bdy_len = st.number_input('res_bdy_len', value=int(median_values['res_bdy_len']))\n",
    "    sjit = st.number_input('sjit', value=median_values['sjit'])\n",
    "    djit = st.number_input('djit', value=median_values['djit'])\n",
    "    stime = st.number_input('stime', value=int(median_values['stime']))\n",
    "    ltime = st.number_input('ltime', value=int(median_values['ltime']))\n",
    "    sintpkt = st.number_input('sintpkt', value=median_values['sintpkt'])\n",
    "    dintpkt = st.number_input('dintpkt', value=median_values['dintpkt'])\n",
    "    synack = st.number_input('synack', value=median_values['synack'])\n",
    "    ackdat = st.number_input('ackdat', value=median_values['ackdat'])\n",
    "    is_sm_ips_ports = st.number_input('is_sm_ips_ports', value=int(median_values['is_sm_ips_ports']))\n",
    "    ct_state_ttl = st.number_input('ct_state_ttl', value=int(median_values['ct_state_ttl']))\n",
    "    ct_flw_http_mthd = st.number_input('ct_flw_http_mthd', value=int(median_values['ct_flw_http_mthd']))\n",
    "    is_ftp_login = st.number_input('is_ftp_login', value=int(median_values['is_ftp_login']))\n",
    "    ct_ftp_cmd = st.number_input('ct_ftp_cmd', value=int(median_values['ct_srv_src']))\n",
    "    ct_srv_src = st.number_input('ct_srv_src', value=int(median_values['ct_srv_src']))\n",
    "\n",
    "# Faire une prédiction\n",
    "if st.button(\"Predict\"):\n",
    "    prediction = clf.predict(new_data)\n",
    "    # Afficher la prédiction\n",
    "    st.write(f'La prédiction est : {prediction}')\n"
   ]
  },
  {
   "cell_type": "code",
   "execution_count": 11,
   "metadata": {},
   "outputs": [
    {
     "name": "stdout",
     "output_type": "stream",
     "text": [
      "Unique values for 'proto': 'udp', 'arp', 'tcp', 'ospf', 'icmp', 'igmp', 'sctp', 'udt', 'sep', 'sun-nd', 'swipe', 'mobile', 'pim', 'rtp', 'ipnip', 'ip', 'ggp', 'st2', 'egp', 'cbt', 'emcon', 'nvp', 'igp', 'xnet', 'argus', 'bbn-rcc', 'chaos', 'pup', 'hmp', 'mux', 'dcn', 'prm', 'trunk-1', 'xns-idp', 'trunk-2', 'leaf-1', 'leaf-2', 'irtp', 'rdp', 'iso-tp4', 'netblt', 'mfe-nsp', 'merit-inp', '3pc', 'xtp', 'idpr', 'tp++', 'ddp', 'idpr-cmtp', 'ipv6', 'il', 'idrp', 'ipv6-frag', 'sdrp', 'ipv6-route', 'gre', 'rsvp', 'mhrp', 'bna', 'esp', 'i-nlsp', 'narp', 'ipv6-no', 'tlsp', 'skip', 'ipv6-opts', 'any', 'cftp', 'sat-expak', 'kryptolan', 'rvd', 'ippc', 'sat-mon', 'ipcv', 'visa', 'cpnx', 'cphb', 'wsn', 'pvp', 'br-sat-mon', 'wb-mon', 'wb-expak', 'iso-ip', 'secure-vmtp', 'vmtp', 'vines', 'ttp', 'nsfnet-igp', 'dgp', 'tcf', 'eigrp', 'sprite-rpc', 'larp', 'mtp', 'ax.25', 'ipip', 'micp', 'aes-sp3-d', 'encap', 'etherip', 'pri-enc', 'gmtp', 'pnni', 'ifmp', 'aris', 'qnx', 'a/n', 'scps', 'snp', 'ipcomp', 'compaq-peer', 'ipx-n-ip', 'vrrp', 'zero', 'pgm', 'iatp', 'ddx', 'l2tp', 'srp', 'stp', 'smp', 'uti', 'sm', 'ptp', 'fire', 'crtp', 'isis', 'crudp', 'sccopmce', 'sps', 'pipe', 'iplt', 'unas', 'fc', 'ib'\n",
      "Unique values for 'service': '-', 'dns', 'http', 'smtp', 'ftp-data', 'ftp', 'ssh', 'pop3', 'snmp', 'ssl', 'irc', 'radius', 'dhcp'\n",
      "Unique values for 'state': 'CON', 'INT', 'FIN', 'URH', 'REQ', 'ECO', 'RST', 'CLO', 'TXD', 'URN', 'no', 'ACC', 'PAR', 'MAS', 'TST', 'ECR'\n"
     ]
    }
   ],
   "source": [
    "# Charger les données d'entraînement\n",
    "import pandas as pd\n",
    "\n",
    "train = pd.read_csv(r'D:\\CYBERSENTINEL\\ML\\reste.csv')\n",
    "proto_unique_values = train['proto'].unique()\n",
    "service_unique_values = train['service'].unique()\n",
    "state_unique_values = train['state'].unique()\n",
    "\n",
    "print(\"Unique values for 'proto':\", ', '.join(f\"'{value}'\" for value in proto_unique_values))\n",
    "print(\"Unique values for 'service':\", ', '.join(f\"'{value}'\" for value in service_unique_values))\n",
    "print(\"Unique values for 'state':\", ', '.join(f\"'{value}'\" for value in state_unique_values))"
   ]
  },
  {
   "cell_type": "code",
   "execution_count": 9,
   "metadata": {},
   "outputs": [
    {
     "name": "stdout",
     "output_type": "stream",
     "text": [
      "Boolean columns:  Index([], dtype='object')\n"
     ]
    }
   ],
   "source": [
    "import numpy as np\n",
    "\n",
    "# Sélectionner uniquement les colonnes booléennes\n",
    "boolean_columns = train.select_dtypes(include=['bool'])\n",
    "\n",
    "print(\"Boolean columns: \", boolean_columns.columns)"
   ]
  },
  {
   "cell_type": "code",
   "execution_count": 12,
   "metadata": {},
   "outputs": [
    {
     "ename": "OSError",
     "evalue": "Background processes not supported.",
     "output_type": "error",
     "traceback": [
      "\u001b[1;31m---------------------------------------------------------------------------\u001b[0m",
      "\u001b[1;31mOSError\u001b[0m                                   Traceback (most recent call last)",
      "Cell \u001b[1;32mIn[12], line 1\u001b[0m\n\u001b[1;32m----> 1\u001b[0m \u001b[43mget_ipython\u001b[49m\u001b[43m(\u001b[49m\u001b[43m)\u001b[49m\u001b[38;5;241;43m.\u001b[39;49m\u001b[43msystem\u001b[49m\u001b[43m(\u001b[49m\u001b[38;5;124;43m'\u001b[39;49m\u001b[38;5;124;43m streamlit run D:\u001b[39;49m\u001b[38;5;130;43;01m\\\\\u001b[39;49;00m\u001b[38;5;124;43mCYBERSENTINEL\u001b[39;49m\u001b[38;5;130;43;01m\\\\\u001b[39;49;00m\u001b[38;5;124;43mML\u001b[39;49m\u001b[38;5;130;43;01m\\\\\u001b[39;49;00m\u001b[38;5;124;43mLABEL\u001b[39;49m\u001b[38;5;130;43;01m\\\\\u001b[39;49;00m\u001b[38;5;124;43mAPI\u001b[39;49m\u001b[38;5;130;43;01m\\\\\u001b[39;49;00m\u001b[38;5;124;43mstreamlit_app.py &>D:\u001b[39;49m\u001b[38;5;130;43;01m\\\\\u001b[39;49;00m\u001b[38;5;124;43mCYBERSENTINEL\u001b[39;49m\u001b[38;5;130;43;01m\\\\\u001b[39;49;00m\u001b[38;5;124;43mML\u001b[39;49m\u001b[38;5;130;43;01m\\\\\u001b[39;49;00m\u001b[38;5;124;43mLABEL\u001b[39;49m\u001b[38;5;130;43;01m\\\\\u001b[39;49;00m\u001b[38;5;124;43mAPI\u001b[39;49m\u001b[38;5;130;43;01m\\\\\u001b[39;49;00m\u001b[38;5;124;43mlogs.txt &\u001b[39;49m\u001b[38;5;124;43m'\u001b[39;49m\u001b[43m)\u001b[49m\n",
      "File \u001b[1;32m~\\AppData\\Local\\Packages\\PythonSoftwareFoundation.Python.3.11_qbz5n2kfra8p0\\LocalCache\\local-packages\\Python311\\site-packages\\ipykernel\\zmqshell.py:642\u001b[0m, in \u001b[0;36mZMQInteractiveShell.system_piped\u001b[1;34m(self, cmd)\u001b[0m\n\u001b[0;32m    635\u001b[0m \u001b[38;5;28;01mif\u001b[39;00m cmd\u001b[38;5;241m.\u001b[39mrstrip()\u001b[38;5;241m.\u001b[39mendswith(\u001b[38;5;124m\"\u001b[39m\u001b[38;5;124m&\u001b[39m\u001b[38;5;124m\"\u001b[39m):\n\u001b[0;32m    636\u001b[0m     \u001b[38;5;66;03m# this is *far* from a rigorous test\u001b[39;00m\n\u001b[0;32m    637\u001b[0m     \u001b[38;5;66;03m# We do not support backgrounding processes because we either use\u001b[39;00m\n\u001b[0;32m    638\u001b[0m     \u001b[38;5;66;03m# pexpect or pipes to read from.  Users can always just call\u001b[39;00m\n\u001b[0;32m    639\u001b[0m     \u001b[38;5;66;03m# os.system() or use ip.system=ip.system_raw\u001b[39;00m\n\u001b[0;32m    640\u001b[0m     \u001b[38;5;66;03m# if they really want a background process.\u001b[39;00m\n\u001b[0;32m    641\u001b[0m     msg \u001b[38;5;241m=\u001b[39m \u001b[38;5;124m\"\u001b[39m\u001b[38;5;124mBackground processes not supported.\u001b[39m\u001b[38;5;124m\"\u001b[39m\n\u001b[1;32m--> 642\u001b[0m     \u001b[38;5;28;01mraise\u001b[39;00m \u001b[38;5;167;01mOSError\u001b[39;00m(msg)\n\u001b[0;32m    644\u001b[0m \u001b[38;5;66;03m# we explicitly do NOT return the subprocess status code, because\u001b[39;00m\n\u001b[0;32m    645\u001b[0m \u001b[38;5;66;03m# a non-None value would trigger :func:`sys.displayhook` calls.\u001b[39;00m\n\u001b[0;32m    646\u001b[0m \u001b[38;5;66;03m# Instead, we store the exit_code in user_ns.\u001b[39;00m\n\u001b[0;32m    647\u001b[0m \u001b[38;5;66;03m# Also, protect system call from UNC paths on Windows here too\u001b[39;00m\n\u001b[0;32m    648\u001b[0m \u001b[38;5;66;03m# as is done in InteractiveShell.system_raw\u001b[39;00m\n\u001b[0;32m    649\u001b[0m \u001b[38;5;28;01mif\u001b[39;00m sys\u001b[38;5;241m.\u001b[39mplatform \u001b[38;5;241m==\u001b[39m \u001b[38;5;124m\"\u001b[39m\u001b[38;5;124mwin32\u001b[39m\u001b[38;5;124m\"\u001b[39m:\n",
      "\u001b[1;31mOSError\u001b[0m: Background processes not supported."
     ]
    }
   ],
   "source": [
    "! streamlit run D:\\CYBERSENTINEL\\ML\\LABEL\\API\\streamlit_app.py &>D:\\CYBERSENTINEL\\ML\\LABEL\\API\\logs.txt &"
   ]
  },
  {
   "cell_type": "code",
   "execution_count": null,
   "metadata": {},
   "outputs": [],
   "source": [
    "! npm install -g localtunnel"
   ]
  },
  {
   "cell_type": "code",
   "execution_count": null,
   "metadata": {},
   "outputs": [
    {
     "name": "stderr",
     "output_type": "stream",
     "text": [
      "'wget' n'est pas reconnu en tant que commande interne\n",
      "ou externe, un programme ex�cutable ou un fichier de commandes.\n"
     ]
    }
   ],
   "source": [
    "! wget -q -O - ipv4.icanhazip.com"
   ]
  },
  {
   "cell_type": "code",
   "execution_count": null,
   "metadata": {},
   "outputs": [],
   "source": [
    "! npx localtunnel -- port 8501"
   ]
  }
 ],
 "metadata": {
  "kernelspec": {
   "display_name": "Python 3",
   "language": "python",
   "name": "python3"
  },
  "language_info": {
   "codemirror_mode": {
    "name": "ipython",
    "version": 3
   },
   "file_extension": ".py",
   "mimetype": "text/x-python",
   "name": "python",
   "nbconvert_exporter": "python",
   "pygments_lexer": "ipython3",
   "version": "3.11.7"
  }
 },
 "nbformat": 4,
 "nbformat_minor": 2
}
